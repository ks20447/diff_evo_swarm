{
 "cells": [
  {
   "cell_type": "code",
   "execution_count": 32,
   "id": "785a16e4",
   "metadata": {},
   "outputs": [],
   "source": [
    "import ast\n",
    "import pandas as pd\n",
    "import numpy as np\n",
    "import matplotlib.pyplot as plt"
   ]
  },
  {
   "cell_type": "code",
   "execution_count": 33,
   "id": "fb619d3a",
   "metadata": {},
   "outputs": [],
   "source": [
    "SCALE = 2\n",
    "SHIFT = (-5, -4)\n",
    "MAP_VERTICES = (\n",
    "    np.array(\n",
    "        [\n",
    "            (-2, 0),\n",
    "            (11, 0),\n",
    "            (11, -3),\n",
    "            (14, -4),\n",
    "            (17, -4),\n",
    "            (20, -2.5),\n",
    "            (20, 8),\n",
    "            (17, 8),\n",
    "            (17, 13),\n",
    "            (13, 13),\n",
    "            (13, 9),\n",
    "            (4, 9),\n",
    "            (4, 6),\n",
    "            (-2, 6),\n",
    "            (-2, 0),\n",
    "        ]\n",
    "    )\n",
    "    * SCALE\n",
    "    + SHIFT\n",
    ")\n",
    "\n",
    "SIGNAL_SOURCE_POS = np.array([12.5, 8.1])"
   ]
  },
  {
   "cell_type": "code",
   "execution_count": 34,
   "id": "b729b002",
   "metadata": {},
   "outputs": [
    {
     "data": {
      "application/vnd.microsoft.datawrangler.viewer.v0+json": {
       "columns": [
        {
         "name": "index",
         "rawType": "int64",
         "type": "integer"
        },
        {
         "name": "cell_id",
         "rawType": "int64",
         "type": "integer"
        },
        {
         "name": "robot_id",
         "rawType": "int64",
         "type": "integer"
        },
        {
         "name": "x",
         "rawType": "float64",
         "type": "float"
        },
        {
         "name": "y",
         "rawType": "float64",
         "type": "float"
        }
       ],
       "ref": "03ff9eb5-5650-4b49-bb51-f0848f33531c",
       "rows": [
        [
         "0",
         "0",
         "0",
         "0.642880731999818",
         "3.653910925582416"
        ],
        [
         "1",
         "0",
         "0",
         "6.5394172686256296",
         "2.5560751821581515"
        ],
        [
         "2",
         "0",
         "0",
         "2.640395357324735",
         "-2.0015573811907803"
        ],
        [
         "3",
         "0",
         "0",
         "0.642880731999818",
         "3.653910925582416"
        ],
        [
         "4",
         "0",
         "1",
         "-5.302207396957562",
         "3.0198540566567025"
        ]
       ],
       "shape": {
        "columns": 4,
        "rows": 5
       }
      },
      "text/html": [
       "<div>\n",
       "<style scoped>\n",
       "    .dataframe tbody tr th:only-of-type {\n",
       "        vertical-align: middle;\n",
       "    }\n",
       "\n",
       "    .dataframe tbody tr th {\n",
       "        vertical-align: top;\n",
       "    }\n",
       "\n",
       "    .dataframe thead th {\n",
       "        text-align: right;\n",
       "    }\n",
       "</style>\n",
       "<table border=\"1\" class=\"dataframe\">\n",
       "  <thead>\n",
       "    <tr style=\"text-align: right;\">\n",
       "      <th></th>\n",
       "      <th>cell_id</th>\n",
       "      <th>robot_id</th>\n",
       "      <th>x</th>\n",
       "      <th>y</th>\n",
       "    </tr>\n",
       "  </thead>\n",
       "  <tbody>\n",
       "    <tr>\n",
       "      <th>0</th>\n",
       "      <td>0</td>\n",
       "      <td>0</td>\n",
       "      <td>0.642881</td>\n",
       "      <td>3.653911</td>\n",
       "    </tr>\n",
       "    <tr>\n",
       "      <th>1</th>\n",
       "      <td>0</td>\n",
       "      <td>0</td>\n",
       "      <td>6.539417</td>\n",
       "      <td>2.556075</td>\n",
       "    </tr>\n",
       "    <tr>\n",
       "      <th>2</th>\n",
       "      <td>0</td>\n",
       "      <td>0</td>\n",
       "      <td>2.640395</td>\n",
       "      <td>-2.001557</td>\n",
       "    </tr>\n",
       "    <tr>\n",
       "      <th>3</th>\n",
       "      <td>0</td>\n",
       "      <td>0</td>\n",
       "      <td>0.642881</td>\n",
       "      <td>3.653911</td>\n",
       "    </tr>\n",
       "    <tr>\n",
       "      <th>4</th>\n",
       "      <td>0</td>\n",
       "      <td>1</td>\n",
       "      <td>-5.302207</td>\n",
       "      <td>3.019854</td>\n",
       "    </tr>\n",
       "  </tbody>\n",
       "</table>\n",
       "</div>"
      ],
      "text/plain": [
       "   cell_id  robot_id         x         y\n",
       "0        0         0  0.642881  3.653911\n",
       "1        0         0  6.539417  2.556075\n",
       "2        0         0  2.640395 -2.001557\n",
       "3        0         0  0.642881  3.653911\n",
       "4        0         1 -5.302207  3.019854"
      ]
     },
     "execution_count": 34,
     "metadata": {},
     "output_type": "execute_result"
    }
   ],
   "source": [
    "# Read the CSV\n",
    "df = pd.read_csv(\"patrol_data.csv\")\n",
    "\n",
    "# Group by cell and robot, and extract waypoints\n",
    "patrol_data = {}\n",
    "\n",
    "for (cell_id, robot_id), group in df.groupby([\"cell_id\", \"robot_id\"]):\n",
    "    waypoints = group[[\"x\", \"y\"]].to_numpy()\n",
    "    \n",
    "    if cell_id not in patrol_data:\n",
    "        patrol_data[cell_id] = []\n",
    "\n",
    "    patrol_data[cell_id].append(waypoints)\n",
    "    \n",
    "df.head()"
   ]
  },
  {
   "cell_type": "code",
   "execution_count": 35,
   "id": "d2ac5581",
   "metadata": {},
   "outputs": [
    {
     "data": {
      "application/vnd.microsoft.datawrangler.viewer.v0+json": {
       "columns": [
        {
         "name": "index",
         "rawType": "int64",
         "type": "integer"
        },
        {
         "name": "cell_id",
         "rawType": "int64",
         "type": "integer"
        },
        {
         "name": "robot_id",
         "rawType": "int64",
         "type": "integer"
        },
        {
         "name": "x",
         "rawType": "float64",
         "type": "float"
        },
        {
         "name": "y",
         "rawType": "float64",
         "type": "float"
        },
        {
         "name": "strength",
         "rawType": "float64",
         "type": "float"
        }
       ],
       "ref": "c45aca53-0b2d-4c56-ae01-cdc6e7f34e93",
       "rows": [
        [
         "0",
         "0",
         "0",
         "0.642880731999818",
         "3.653910925582416",
         "-5.11217258858639"
        ],
        [
         "1",
         "0",
         "0",
         "0.7411913205476943",
         "3.6356071505791503",
         "-5.11217258858639"
        ],
        [
         "2",
         "0",
         "0",
         "0.8395019090955707",
         "3.617303375575884",
         "-5.098804264673134"
        ],
        [
         "3",
         "0",
         "0",
         "0.937812497643447",
         "3.5989996005726184",
         "-5.08539533041467"
        ],
        [
         "4",
         "0",
         "0",
         "1.036123086191323",
         "3.5806958255693524",
         "-5.071945542548633"
        ]
       ],
       "shape": {
        "columns": 5,
        "rows": 5
       }
      },
      "text/html": [
       "<div>\n",
       "<style scoped>\n",
       "    .dataframe tbody tr th:only-of-type {\n",
       "        vertical-align: middle;\n",
       "    }\n",
       "\n",
       "    .dataframe tbody tr th {\n",
       "        vertical-align: top;\n",
       "    }\n",
       "\n",
       "    .dataframe thead th {\n",
       "        text-align: right;\n",
       "    }\n",
       "</style>\n",
       "<table border=\"1\" class=\"dataframe\">\n",
       "  <thead>\n",
       "    <tr style=\"text-align: right;\">\n",
       "      <th></th>\n",
       "      <th>cell_id</th>\n",
       "      <th>robot_id</th>\n",
       "      <th>x</th>\n",
       "      <th>y</th>\n",
       "      <th>strength</th>\n",
       "    </tr>\n",
       "  </thead>\n",
       "  <tbody>\n",
       "    <tr>\n",
       "      <th>0</th>\n",
       "      <td>0</td>\n",
       "      <td>0</td>\n",
       "      <td>0.642881</td>\n",
       "      <td>3.653911</td>\n",
       "      <td>-5.112173</td>\n",
       "    </tr>\n",
       "    <tr>\n",
       "      <th>1</th>\n",
       "      <td>0</td>\n",
       "      <td>0</td>\n",
       "      <td>0.741191</td>\n",
       "      <td>3.635607</td>\n",
       "      <td>-5.112173</td>\n",
       "    </tr>\n",
       "    <tr>\n",
       "      <th>2</th>\n",
       "      <td>0</td>\n",
       "      <td>0</td>\n",
       "      <td>0.839502</td>\n",
       "      <td>3.617303</td>\n",
       "      <td>-5.098804</td>\n",
       "    </tr>\n",
       "    <tr>\n",
       "      <th>3</th>\n",
       "      <td>0</td>\n",
       "      <td>0</td>\n",
       "      <td>0.937812</td>\n",
       "      <td>3.599000</td>\n",
       "      <td>-5.085395</td>\n",
       "    </tr>\n",
       "    <tr>\n",
       "      <th>4</th>\n",
       "      <td>0</td>\n",
       "      <td>0</td>\n",
       "      <td>1.036123</td>\n",
       "      <td>3.580696</td>\n",
       "      <td>-5.071946</td>\n",
       "    </tr>\n",
       "  </tbody>\n",
       "</table>\n",
       "</div>"
      ],
      "text/plain": [
       "   cell_id  robot_id         x         y  strength\n",
       "0        0         0  0.642881  3.653911 -5.112173\n",
       "1        0         0  0.741191  3.635607 -5.112173\n",
       "2        0         0  0.839502  3.617303 -5.098804\n",
       "3        0         0  0.937812  3.599000 -5.085395\n",
       "4        0         0  1.036123  3.580696 -5.071946"
      ]
     },
     "execution_count": 35,
     "metadata": {},
     "output_type": "execute_result"
    }
   ],
   "source": [
    "df = pd.read_csv(\"simulation_data.csv\")\n",
    "\n",
    "df.head()"
   ]
  },
  {
   "cell_type": "code",
   "execution_count": 36,
   "id": "b2baf671",
   "metadata": {},
   "outputs": [
    {
     "name": "stdout",
     "output_type": "stream",
     "text": [
      "              x          y  strength\n",
      "0      0.642881   3.653911 -5.112173\n",
      "1      0.741191   3.635607 -5.112173\n",
      "2      0.839502   3.617303 -5.098804\n",
      "3      0.937812   3.599000 -5.085395\n",
      "4      1.036123   3.580696 -5.071946\n",
      "...         ...        ...       ...\n",
      "1493  31.142037  10.185547 -2.140070\n",
      "1494  31.111369  10.280728 -2.165494\n",
      "1495  31.080700  10.375909 -2.190785\n",
      "1496  31.062016  10.433898 -2.215942\n",
      "1497  31.062016  10.433898 -2.231204\n",
      "\n",
      "[466 rows x 3 columns]\n"
     ]
    }
   ],
   "source": [
    "robot_data = {\n",
    "    robot_id: group[[\"x\", \"y\", \"strength\"]]\n",
    "    for robot_id, group in df.groupby(\"robot_id\")\n",
    "}\n",
    "\n",
    "# Example: Access data for robot_id 0\n",
    "print(robot_data[0])"
   ]
  },
  {
   "cell_type": "code",
   "execution_count": 38,
   "id": "6b947a28",
   "metadata": {},
   "outputs": [
    {
     "data": {
      "image/png": "[encoded data removed]",
      "text/plain": [
       "<Figure size 640x480 with 1 Axes>"
      ]
     },
     "metadata": {},
     "output_type": "display_data"
    },
    {
     "name": "stdout",
     "output_type": "stream",
     "text": [
      "23.852344571557914\n"
     ]
    }
   ],
   "source": [
    "fig, ax = plt.subplots()\n",
    "ax.plot(MAP_VERTICES[:, 0], MAP_VERTICES[:, 1])\n",
    "# ax.scatter(SIGNAL_SOURCE_POS[0], SIGNAL_SOURCE_POS[1], marker=\"x\", color=\"blue\", s=50)\n",
    "\n",
    "orthogonal_lines = []  # Add this at the top of your plotting code\n",
    "\n",
    "for cell_id, cell_group in df.groupby(\"cell_id\"):\n",
    "    \n",
    "    for robot_id, robot in cell_group.groupby(\"robot_id\"):\n",
    "        \n",
    "        ax.scatter(robot[\"x\"], robot[\"y\"], c=robot[\"strength\"], cmap=\"viridis\")\n",
    "\n",
    "        vertices = patrol_data[cell_id][robot_id]\n",
    "\n",
    "        for i in range(len(vertices) - 1):  # closed loop assumed\n",
    "            start_x, start_y = vertices[i]\n",
    "            end_x, end_y = vertices[i + 1]\n",
    "\n",
    "            # Match start and end vertices\n",
    "            start_match = robot[\n",
    "                np.isclose(robot[\"x\"], start_x) & np.isclose(robot[\"y\"], start_y)\n",
    "            ]\n",
    "            end_match = robot[\n",
    "                np.isclose(robot[\"x\"], end_x) & np.isclose(robot[\"y\"], end_y)\n",
    "            ]\n",
    "\n",
    "            if not start_match.empty and not end_match.empty:\n",
    "                \n",
    "                if i == 0:\n",
    "                    start_idx = start_match.index[0]\n",
    "                else:\n",
    "                    start_idx = start_match.index[-1]\n",
    "                end_idx = end_match.index[-1]\n",
    "\n",
    "                i1, i2 = sorted([start_idx, end_idx])\n",
    "                df_split = robot.loc[i1:i2]\n",
    "\n",
    "                max_strength_row = df_split.loc[df_split[\"strength\"].idxmax()]\n",
    "\n",
    "                # Skip if max point is at vertex\n",
    "                if not (\n",
    "                    (np.isclose(max_strength_row[\"x\"], start_x) and np.isclose(max_strength_row[\"y\"], start_y))\n",
    "                    or\n",
    "                    (np.isclose(max_strength_row[\"x\"], end_x) and np.isclose(max_strength_row[\"y\"], end_y))\n",
    "                ) and max_strength_row[\"strength\"] >= -100:\n",
    "                    ax.scatter(\n",
    "                        max_strength_row[\"x\"],\n",
    "                        max_strength_row[\"y\"],\n",
    "                        marker=\"x\",\n",
    "                        color=\"r\",\n",
    "                        s=10,\n",
    "                    )\n",
    "\n",
    "                    # Calculate gradient of segment\n",
    "                    dx = end_x - start_x\n",
    "                    dy = end_y - start_y\n",
    "                    gradient = np.inf if np.isclose(dx, 0.0) else dy / dx\n",
    "\n",
    "                    # Perpendicular gradient\n",
    "                    if np.isclose(gradient, 0.0):\n",
    "                        perp_grad = np.inf\n",
    "                    elif np.isinf(gradient):\n",
    "                        perp_grad = 0.0\n",
    "                    else:\n",
    "                        perp_grad = -1 / gradient\n",
    "\n",
    "                    # Line through max point with gradient = perp_grad\n",
    "                    length = 50.0  # adjustable\n",
    "                    x0, y0 = max_strength_row[\"x\"], max_strength_row[\"y\"]\n",
    "\n",
    "                    if np.isinf(perp_grad):\n",
    "                        x_vals = [x0, x0]\n",
    "                        y_vals = [y0 - length / 2, y0 + length / 2]\n",
    "                    else:\n",
    "                        dx_line = length / 2 / np.sqrt(1 + perp_grad**2)\n",
    "                        x_vals = [x0 - dx_line, x0 + dx_line]\n",
    "                        y_vals = [perp_grad * (x - x0) + y0 for x in x_vals]\n",
    "\n",
    "                    orthogonal_lines.append((x0, y0, perp_grad))\n",
    "                    ax.plot(x_vals, y_vals, \"r--\")\n",
    "\n",
    "            else:\n",
    "                print(f\"Segment skipped: no match for robot {robot_id} in cell {cell_id}, segment {i}\")\n",
    "                \n",
    "A_vals = []\n",
    "b_vals = []\n",
    "\n",
    "for x0, y0, m in orthogonal_lines:\n",
    "    if np.isinf(m):  # vertical line: x = x0 → 1·x + 0·y = x0\n",
    "        A_vals.append([1.0, 0.0])\n",
    "        b_vals.append(x0)\n",
    "    elif np.isclose(m, 0.0):  # horizontal line: y = y0 → 0·x + 1·y = y0\n",
    "        A_vals.append([0.0, 1.0])\n",
    "        b_vals.append(y0)\n",
    "    else:\n",
    "        # General case: y - y0 = m(x - x0) → m x - y = m x0 - y0\n",
    "        A = m\n",
    "        B = -1.0\n",
    "        C = m * x0 - y0\n",
    "        A_vals.append([A, B])\n",
    "        b_vals.append(C)\n",
    "\n",
    "A = np.array(A_vals)\n",
    "b = np.array(b_vals)\n",
    "\n",
    "# Solve least squares: minimize ||Ax - b||\n",
    "intersection, residuals, rank, s = np.linalg.lstsq(A, b, rcond=None)\n",
    "\n",
    "ax.scatter(*intersection, color=\"black\", marker=\"*\", s=100, label=\"Intersection\")\n",
    "\n",
    "ax.axis(\"equal\")\n",
    "plt.show()\n",
    "\n",
    "def point_error(p1, p2):\n",
    "    return np.linalg.norm(np.array(p1) - np.array(p2))\n",
    "\n",
    "print(point_error(intersection, SIGNAL_SOURCE_POS))"
   ]
  }
 ],
 "metadata": {
  "kernelspec": {
   "display_name": "venv",
   "language": "python",
   "name": "python3"
  },
  "language_info": {
   "codemirror_mode": {
    "name": "ipython",
    "version": 3
   },
   "file_extension": ".py",
   "mimetype": "text/x-python",
   "name": "python",
   "nbconvert_exporter": "python",
   "pygments_lexer": "ipython3",
   "version": "3.12.6"
  }
 },
 "nbformat": 4,
 "nbformat_minor": 5
}
