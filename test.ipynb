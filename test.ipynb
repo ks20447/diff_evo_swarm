{
 "cells": [
  {
   "cell_type": "code",
   "execution_count": 24,
   "id": "785a16e4",
   "metadata": {},
   "outputs": [],
   "source": [
    "import ast\n",
    "import pandas as pd\n",
    "import numpy as np\n",
    "import matplotlib.pyplot as plt"
   ]
  },
  {
   "cell_type": "code",
   "execution_count": 25,
   "id": "fb619d3a",
   "metadata": {},
   "outputs": [],
   "source": [
    "SCALE = 2\n",
    "SHIFT = (-5, -4)\n",
    "MAP_VERTICES = (\n",
    "    np.array(\n",
    "        [\n",
    "            (-2, 0),\n",
    "            (11, 0),\n",
    "            (11, -3),\n",
    "            (14, -4),\n",
    "            (17, -4),\n",
    "            (20, -2.5),\n",
    "            (20, 8),\n",
    "            (17, 8),\n",
    "            (17, 13),\n",
    "            (13, 13),\n",
    "            (13, 9),\n",
    "            (4, 9),\n",
    "            (4, 6),\n",
    "            (-2, 6),\n",
    "            (-2, 0),\n",
    "        ]\n",
    "    )\n",
    "    * SCALE\n",
    "    + SHIFT\n",
    ")\n",
    "\n",
    "SIGNAL_SOURCE_POS = np.array([25.0, 5.0])"
   ]
  },
  {
   "cell_type": "code",
   "execution_count": 26,
   "id": "b729b002",
   "metadata": {},
   "outputs": [
    {
     "data": {
      "application/vnd.microsoft.datawrangler.viewer.v0+json": {
       "columns": [
        {
         "name": "index",
         "rawType": "int64",
         "type": "integer"
        },
        {
         "name": "cell_id",
         "rawType": "int64",
         "type": "integer"
        },
        {
         "name": "robot_id",
         "rawType": "int64",
         "type": "integer"
        },
        {
         "name": "x",
         "rawType": "float64",
         "type": "float"
        },
        {
         "name": "y",
         "rawType": "float64",
         "type": "float"
        }
       ],
       "ref": "f5b724c7-388a-4831-84c3-a9ae5e284098",
       "rows": [
        [
         "0",
         "0",
         "0",
         "2.292629737603321",
         "3.009131211945991"
        ],
        [
         "1",
         "0",
         "0",
         "6.185911200741709",
         "-1.3968989527971656"
        ],
        [
         "2",
         "0",
         "0",
         "0.4235364166644055",
         "-2.56556452158648"
        ],
        [
         "3",
         "0",
         "0",
         "2.292629737603321",
         "3.009131211945991"
        ],
        [
         "4",
         "0",
         "1",
         "-7.392989853939031",
         "3.696093875102256"
        ]
       ],
       "shape": {
        "columns": 4,
        "rows": 5
       }
      },
      "text/html": [
       "<div>\n",
       "<style scoped>\n",
       "    .dataframe tbody tr th:only-of-type {\n",
       "        vertical-align: middle;\n",
       "    }\n",
       "\n",
       "    .dataframe tbody tr th {\n",
       "        vertical-align: top;\n",
       "    }\n",
       "\n",
       "    .dataframe thead th {\n",
       "        text-align: right;\n",
       "    }\n",
       "</style>\n",
       "<table border=\"1\" class=\"dataframe\">\n",
       "  <thead>\n",
       "    <tr style=\"text-align: right;\">\n",
       "      <th></th>\n",
       "      <th>cell_id</th>\n",
       "      <th>robot_id</th>\n",
       "      <th>x</th>\n",
       "      <th>y</th>\n",
       "    </tr>\n",
       "  </thead>\n",
       "  <tbody>\n",
       "    <tr>\n",
       "      <th>0</th>\n",
       "      <td>0</td>\n",
       "      <td>0</td>\n",
       "      <td>2.292630</td>\n",
       "      <td>3.009131</td>\n",
       "    </tr>\n",
       "    <tr>\n",
       "      <th>1</th>\n",
       "      <td>0</td>\n",
       "      <td>0</td>\n",
       "      <td>6.185911</td>\n",
       "      <td>-1.396899</td>\n",
       "    </tr>\n",
       "    <tr>\n",
       "      <th>2</th>\n",
       "      <td>0</td>\n",
       "      <td>0</td>\n",
       "      <td>0.423536</td>\n",
       "      <td>-2.565565</td>\n",
       "    </tr>\n",
       "    <tr>\n",
       "      <th>3</th>\n",
       "      <td>0</td>\n",
       "      <td>0</td>\n",
       "      <td>2.292630</td>\n",
       "      <td>3.009131</td>\n",
       "    </tr>\n",
       "    <tr>\n",
       "      <th>4</th>\n",
       "      <td>0</td>\n",
       "      <td>1</td>\n",
       "      <td>-7.392990</td>\n",
       "      <td>3.696094</td>\n",
       "    </tr>\n",
       "  </tbody>\n",
       "</table>\n",
       "</div>"
      ],
      "text/plain": [
       "   cell_id  robot_id         x         y\n",
       "0        0         0  2.292630  3.009131\n",
       "1        0         0  6.185911 -1.396899\n",
       "2        0         0  0.423536 -2.565565\n",
       "3        0         0  2.292630  3.009131\n",
       "4        0         1 -7.392990  3.696094"
      ]
     },
     "execution_count": 26,
     "metadata": {},
     "output_type": "execute_result"
    }
   ],
   "source": [
    "# Read the CSV\n",
    "df = pd.read_csv(\"patrol_data.csv\")\n",
    "\n",
    "# Group by cell and robot, and extract waypoints\n",
    "patrol_data = {}\n",
    "\n",
    "for (cell_id, robot_id), group in df.groupby([\"cell_id\", \"robot_id\"]):\n",
    "    waypoints = group[[\"x\", \"y\"]].to_numpy()\n",
    "    \n",
    "    if cell_id not in patrol_data:\n",
    "        patrol_data[cell_id] = []\n",
    "\n",
    "    patrol_data[cell_id].append(waypoints)\n",
    "    \n",
    "df.head()"
   ]
  },
  {
   "cell_type": "code",
   "execution_count": 27,
   "id": "d2ac5581",
   "metadata": {},
   "outputs": [
    {
     "data": {
      "application/vnd.microsoft.datawrangler.viewer.v0+json": {
       "columns": [
        {
         "name": "index",
         "rawType": "int64",
         "type": "integer"
        },
        {
         "name": "cell_id",
         "rawType": "int64",
         "type": "integer"
        },
        {
         "name": "robot_id",
         "rawType": "int64",
         "type": "integer"
        },
        {
         "name": "x",
         "rawType": "float64",
         "type": "float"
        },
        {
         "name": "y",
         "rawType": "float64",
         "type": "float"
        },
        {
         "name": "strength",
         "rawType": "float64",
         "type": "float"
        }
       ],
       "ref": "ec5dd354-b82e-443b-b8e1-528a430d7987",
       "rows": [
        [
         "0",
         "0",
         "0",
         "2.292629737603321",
         "3.009131211945991",
         "-0.5945077420336808"
        ],
        [
         "1",
         "0",
         "0",
         "2.358845509970443",
         "2.9341947622714466",
         "-0.5945077420336808"
        ],
        [
         "2",
         "0",
         "0",
         "2.425061282337565",
         "2.859258312596902",
         "-0.5848261963900541"
        ],
        [
         "3",
         "0",
         "0",
         "2.4912770547046867",
         "2.784321862922358",
         "-0.5754380594557702"
        ],
        [
         "4",
         "0",
         "0",
         "2.5574928270718087",
         "2.709385413247813",
         "-0.5663473379207993"
        ]
       ],
       "shape": {
        "columns": 5,
        "rows": 5
       }
      },
      "text/html": [
       "<div>\n",
       "<style scoped>\n",
       "    .dataframe tbody tr th:only-of-type {\n",
       "        vertical-align: middle;\n",
       "    }\n",
       "\n",
       "    .dataframe tbody tr th {\n",
       "        vertical-align: top;\n",
       "    }\n",
       "\n",
       "    .dataframe thead th {\n",
       "        text-align: right;\n",
       "    }\n",
       "</style>\n",
       "<table border=\"1\" class=\"dataframe\">\n",
       "  <thead>\n",
       "    <tr style=\"text-align: right;\">\n",
       "      <th></th>\n",
       "      <th>cell_id</th>\n",
       "      <th>robot_id</th>\n",
       "      <th>x</th>\n",
       "      <th>y</th>\n",
       "      <th>strength</th>\n",
       "    </tr>\n",
       "  </thead>\n",
       "  <tbody>\n",
       "    <tr>\n",
       "      <th>0</th>\n",
       "      <td>0</td>\n",
       "      <td>0</td>\n",
       "      <td>2.292630</td>\n",
       "      <td>3.009131</td>\n",
       "      <td>-0.594508</td>\n",
       "    </tr>\n",
       "    <tr>\n",
       "      <th>1</th>\n",
       "      <td>0</td>\n",
       "      <td>0</td>\n",
       "      <td>2.358846</td>\n",
       "      <td>2.934195</td>\n",
       "      <td>-0.594508</td>\n",
       "    </tr>\n",
       "    <tr>\n",
       "      <th>2</th>\n",
       "      <td>0</td>\n",
       "      <td>0</td>\n",
       "      <td>2.425061</td>\n",
       "      <td>2.859258</td>\n",
       "      <td>-0.584826</td>\n",
       "    </tr>\n",
       "    <tr>\n",
       "      <th>3</th>\n",
       "      <td>0</td>\n",
       "      <td>0</td>\n",
       "      <td>2.491277</td>\n",
       "      <td>2.784322</td>\n",
       "      <td>-0.575438</td>\n",
       "    </tr>\n",
       "    <tr>\n",
       "      <th>4</th>\n",
       "      <td>0</td>\n",
       "      <td>0</td>\n",
       "      <td>2.557493</td>\n",
       "      <td>2.709385</td>\n",
       "      <td>-0.566347</td>\n",
       "    </tr>\n",
       "  </tbody>\n",
       "</table>\n",
       "</div>"
      ],
      "text/plain": [
       "   cell_id  robot_id         x         y  strength\n",
       "0        0         0  2.292630  3.009131 -0.594508\n",
       "1        0         0  2.358846  2.934195 -0.594508\n",
       "2        0         0  2.425061  2.859258 -0.584826\n",
       "3        0         0  2.491277  2.784322 -0.575438\n",
       "4        0         0  2.557493  2.709385 -0.566347"
      ]
     },
     "execution_count": 27,
     "metadata": {},
     "output_type": "execute_result"
    }
   ],
   "source": [
    "df = pd.read_csv(\"simulation_data.csv\")\n",
    "\n",
    "df.head()"
   ]
  },
  {
   "cell_type": "code",
   "execution_count": 28,
   "id": "b2baf671",
   "metadata": {},
   "outputs": [
    {
     "name": "stdout",
     "output_type": "stream",
     "text": [
      "              x         y  strength\n",
      "0      2.292630  3.009131 -0.594508\n",
      "1      2.358846  2.934195 -0.594508\n",
      "2      2.425061  2.859258 -0.584826\n",
      "3      2.491277  2.784322 -0.575438\n",
      "4      2.557493  2.709385 -0.566347\n",
      "...         ...       ...       ...\n",
      "1583  30.254246  9.661265 -2.521766\n",
      "1584  30.291496  9.754069 -2.532748\n",
      "1585  30.328745  9.846872 -2.543811\n",
      "1586  30.383123  9.982352 -2.554953\n",
      "1587  30.383123  9.982352 -2.571358\n",
      "\n",
      "[703 rows x 3 columns]\n"
     ]
    }
   ],
   "source": [
    "robot_data = {\n",
    "    robot_id: group[[\"x\", \"y\", \"strength\"]]\n",
    "    for robot_id, group in df.groupby(\"robot_id\")\n",
    "}\n",
    "\n",
    "# Example: Access data for robot_id 0\n",
    "print(robot_data[0])"
   ]
  },
  {
   "cell_type": "code",
   "execution_count": 35,
   "id": "6b947a28",
   "metadata": {},
   "outputs": [
    {
     "data": {
      "image/png": "[encoded data removed]",
      "text/plain": [
       "<Figure size 640x480 with 1 Axes>"
      ]
     },
     "metadata": {},
     "output_type": "display_data"
    }
   ],
   "source": [
    "fig, ax = plt.subplots()\n",
    "ax.plot(MAP_VERTICES[:, 0], MAP_VERTICES[:, 1])\n",
    "# ax.scatter(SIGNAL_SOURCE_POS[0], SIGNAL_SOURCE_POS[1], marker=\"x\", color=\"blue\", s=50)\n",
    "\n",
    "for cell_id, cell_group in df.groupby(\"cell_id\"):\n",
    "    \n",
    "    for robot_id, robot in cell_group.groupby(\"robot_id\"):\n",
    "        \n",
    "        ax.scatter(robot[\"x\"], robot[\"y\"], c=robot[\"strength\"], cmap=\"viridis\")\n",
    "\n",
    "        vertices = patrol_data[cell_id][robot_id]\n",
    "\n",
    "        for i in range(len(vertices) - 1):  # closed loop assumed\n",
    "            start_x, start_y = vertices[i]\n",
    "            end_x, end_y = vertices[i + 1]\n",
    "\n",
    "            # Match start and end vertices\n",
    "            start_match = robot[\n",
    "                np.isclose(robot[\"x\"], start_x) & np.isclose(robot[\"y\"], start_y)\n",
    "            ]\n",
    "            end_match = robot[\n",
    "                np.isclose(robot[\"x\"], end_x) & np.isclose(robot[\"y\"], end_y)\n",
    "            ]\n",
    "\n",
    "            if not start_match.empty and not end_match.empty:\n",
    "                \n",
    "                if i == 0:\n",
    "                    start_idx = start_match.index[0]\n",
    "                else:\n",
    "                    start_idx = start_match.index[-1]\n",
    "                end_idx = end_match.index[-1]\n",
    "\n",
    "                i1, i2 = sorted([start_idx, end_idx])\n",
    "                df_split = robot.loc[i1:i2]\n",
    "\n",
    "                max_strength_row = df_split.loc[df_split[\"strength\"].idxmax()]\n",
    "\n",
    "                # Skip if max point is at vertex\n",
    "                if not (\n",
    "                    (np.isclose(max_strength_row[\"x\"], start_x) and np.isclose(max_strength_row[\"y\"], start_y))\n",
    "                    or\n",
    "                    (np.isclose(max_strength_row[\"x\"], end_x) and np.isclose(max_strength_row[\"y\"], end_y))\n",
    "                ) and max_strength_row[\"strength\"] >= -100:\n",
    "                    ax.scatter(\n",
    "                        max_strength_row[\"x\"],\n",
    "                        max_strength_row[\"y\"],\n",
    "                        marker=\"x\",\n",
    "                        color=\"r\",\n",
    "                        s=10,\n",
    "                    )\n",
    "\n",
    "                    # Calculate gradient of segment\n",
    "                    dx = end_x - start_x\n",
    "                    dy = end_y - start_y\n",
    "                    gradient = np.inf if np.isclose(dx, 0.0) else dy / dx\n",
    "\n",
    "                    # Perpendicular gradient\n",
    "                    if np.isclose(gradient, 0.0):\n",
    "                        perp_grad = np.inf\n",
    "                    elif np.isinf(gradient):\n",
    "                        perp_grad = 0.0\n",
    "                    else:\n",
    "                        perp_grad = -1 / gradient\n",
    "\n",
    "                    # Line through max point with gradient = perp_grad\n",
    "                    length = 50.0  # adjustable\n",
    "                    x0, y0 = max_strength_row[\"x\"], max_strength_row[\"y\"]\n",
    "\n",
    "                    if np.isinf(perp_grad):\n",
    "                        x_vals = [x0, x0]\n",
    "                        y_vals = [y0 - length / 2, y0 + length / 2]\n",
    "                    else:\n",
    "                        dx_line = length / 2 / np.sqrt(1 + perp_grad**2)\n",
    "                        x_vals = [x0 - dx_line, x0 + dx_line]\n",
    "                        y_vals = [perp_grad * (x - x0) + y0 for x in x_vals]\n",
    "\n",
    "                    ax.plot(x_vals, y_vals, \"r--\")\n",
    "\n",
    "            else:\n",
    "                print(f\"Segment skipped: no match for robot {robot_id} in cell {cell_id}, segment {i}\")\n",
    "\n",
    "ax.axis(\"equal\")\n",
    "plt.show()"
   ]
  }
 ],
 "metadata": {
  "kernelspec": {
   "display_name": "venv",
   "language": "python",
   "name": "python3"
  },
  "language_info": {
   "codemirror_mode": {
    "name": "ipython",
    "version": 3
   },
   "file_extension": ".py",
   "mimetype": "text/x-python",
   "name": "python",
   "nbconvert_exporter": "python",
   "pygments_lexer": "ipython3",
   "version": "3.12.9"
  }
 },
 "nbformat": 4,
 "nbformat_minor": 5
}
